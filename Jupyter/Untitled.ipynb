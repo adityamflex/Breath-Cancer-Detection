{
 "cells": [
  {
   "cell_type": "code",
   "execution_count": 2,
   "id": "f774cb82-38b5-4e26-b828-cbf23ea053ae",
   "metadata": {},
   "outputs": [],
   "source": [
    "!wget -q -O output.jpg \"https://images.unsplash.com/photo-1507146426996-ef05306b995a?fm=jpg&ixlib=rb-1.2.1&q=80&fm=jpg&ixid=MnwxMjA3fDB8MHxwaG90by1wYWdlfHx8fGVufDB8fHx8&auto=format&fit=crop&w=870\""
   ]
  },
  {
   "cell_type": "code",
   "execution_count": 3,
   "id": "dd5f7241-4a64-4a82-a2e0-a89db403929c",
   "metadata": {},
   "outputs": [],
   "source": [
    "#importing the image modules from matplotlib library\n",
    "\n",
    "import matplotlib.image as mpimg\n",
    "import matplotlib.pyplot as plt\n"
   ]
  },
  {
   "cell_type": "code",
   "execution_count": 5,
   "id": "127b503f-c016-4eba-a72f-e73187214e16",
   "metadata": {},
   "outputs": [
    {
     "ename": "SyntaxError",
     "evalue": "invalid syntax (2789172918.py, line 3)",
     "output_type": "error",
     "traceback": [
      "\u001b[1;36m  Cell \u001b[1;32mIn[5], line 3\u001b[1;36m\u001b[0m\n\u001b[1;33m    img = mping.imread('photo-1507146426996-ef05306b995a@fm=jpg&ixlib=rb-1.2.1&q=80&fm=jpg&ixid=MnwxMjA3fDB8MHxwaG90by1wYWdlfHx8fGVufDB8fHx8&auto=format&fit=crop&w=870')>\u001b[0m\n\u001b[1;37m                                                                                                                                                                          ^\u001b[0m\n\u001b[1;31mSyntaxError\u001b[0m\u001b[1;31m:\u001b[0m invalid syntax\n"
     ]
    }
   ],
   "source": [
    "#loading an image through matplotlib.image modules\n",
    "\n",
    "img = mping.imread('photo-1507146426996-ef05306b995a@fm=jpg&ixlib=rb-1.2.1&q=80&fm=jpg&ixid=MnwxMjA3fDB8MHxwaG90by1wYWdlfHx8fGVufDB8fHx8&auto=format&fit=crop&w=870')>"
   ]
  },
  {
   "cell_type": "code",
   "execution_count": null,
   "id": "e6366503-0fb6-456c-8556-61512f7c946f",
   "metadata": {},
   "outputs": [],
   "source": []
  }
 ],
 "metadata": {
  "kernelspec": {
   "display_name": "Python 3 (ipykernel)",
   "language": "python",
   "name": "python3"
  },
  "language_info": {
   "codemirror_mode": {
    "name": "ipython",
    "version": 3
   },
   "file_extension": ".py",
   "mimetype": "text/x-python",
   "name": "python",
   "nbconvert_exporter": "python",
   "pygments_lexer": "ipython3",
   "version": "3.12.6"
  }
 },
 "nbformat": 4,
 "nbformat_minor": 5
}
